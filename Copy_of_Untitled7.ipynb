{
  "nbformat": 4,
  "nbformat_minor": 0,
  "metadata": {
    "colab": {
      "provenance": [],
      "authorship_tag": "ABX9TyOIe2rYtoamxluqXrYsmDr2",
      "include_colab_link": true
    },
    "kernelspec": {
      "name": "python3",
      "display_name": "Python 3"
    },
    "language_info": {
      "name": "python"
    }
  },
  "cells": [
    {
      "cell_type": "markdown",
      "metadata": {
        "id": "view-in-github",
        "colab_type": "text"
      },
      "source": [
        "<a href=\"https://colab.research.google.com/github/Laxmithallapalli/JAVA-CRT/blob/main/Copy_of_Untitled7.ipynb\" target=\"_parent\"><img src=\"https://colab.research.google.com/assets/colab-badge.svg\" alt=\"Open In Colab\"/></a>"
      ]
    },
    {
      "cell_type": "code",
      "execution_count": null,
      "metadata": {
        "colab": {
          "base_uri": "https://localhost:8080/"
        },
        "id": "SR2T76EGN7GL",
        "outputId": "0f4d1071-6e35-416b-dfe8-7e3b95edd0f0"
      },
      "outputs": [
        {
          "output_type": "stream",
          "name": "stdout",
          "text": [
            "The unconditional probability of golf is 0.4\n",
            "The probability of medrisk 0.3\n",
            "The probability of single and medrisk 0.2\n",
            "The probability of single given medrisk 0.6666666666666667\n"
          ]
        }
      ],
      "source": [
        "total_records=10\n",
        "no_golf=4\n",
        "print(\"The unconditional probability of golf is\",no_golf/total_records)\n",
        "no_medrisk=3\n",
        "probability_medrisk=3/10\n",
        "print(\"The probability of medrisk\",probability_medrisk)\n",
        "no_single_medrisk=2\n",
        "probability_single_and_medrisk=no_single_medrisk/total_records\n",
        "print(\"The probability of single and medrisk\",probability_single_and_medrisk)\n",
        "print(\"The probability of single given medrisk\",probability_single_and_medrisk/probability_medrisk)\n"
      ]
    }
  ]
}